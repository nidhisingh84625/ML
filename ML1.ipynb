{
 "cells": [
  {
   "cell_type": "markdown",
   "id": "f62f5462-3c6f-4f41-8a57-2befa1b877be",
   "metadata": {},
   "source": [
    "#Q1: Explain the following with an example:\n",
    "    1. Artificial Intelligence\n",
    "    2. Machine Learning\n",
    "    3. Deep Learning"
   ]
  },
  {
   "cell_type": "markdown",
   "id": "70c9c956-d60e-4476-b77b-2c8fcc9c2980",
   "metadata": {},
   "source": [
    "Artificial intelligence:\n",
    "Artificial intelligence is the ability of a computer or a robot controlled by a computer to do tasks that are usually done by humans because they require human intelligence and discernment.\n",
    "Examples:\n",
    "1. Face Detection and recognition\n",
    "2. Text Editors and Autocorrect\n",
    "3. Chatbots\n",
    "4. E-Payments\n",
    "5. Search and Recommendation algorithms\n",
    "6. Digital Assistant\n",
    "7. Social media\n",
    "8. Healthcare\n",
    "9. Gaming\n",
    "10. Online Ads-Network\n",
    "11. Banking and Finance\n",
    "12. Smart Home devices\n",
    "\n",
    "Machine Learning:\n",
    "Machine learning is a type of artificial intelligence that allows software applications to become more accurate at predicting outcomes without being explicitly programmed to do so. Machine learning algorithms use historical data as input to predict new output values.\n",
    "Examples:\n",
    "1. Speech & Image Recognition\n",
    "2. Google Translation\n",
    "3. Self-driving cars\n",
    "4. Ads Recommendation\n",
    "5. Email & spam filtering\n",
    "\n",
    "\n",
    "Deep Learning:\n",
    "Deep learning is a subset of machine learning that is made up of a neural network with three or more layers. A neural network attempts to model the human brain's behavior by learning from large data sets. Deep learning drives many AI applications that improve the way systems and tools deliver services, such as voice-enabled technology and credit card fraud detection.\n",
    "Examples:\n",
    "1. Virtual assistants\n",
    "2. Medical science"
   ]
  },
  {
   "cell_type": "markdown",
   "id": "d411c4a8-2a88-4c50-81a6-3049aab10eb0",
   "metadata": {},
   "source": [
    "#Q2: What is supervised learning? List some examples of supervised learning."
   ]
  },
  {
   "cell_type": "markdown",
   "id": "d75f7402-6a33-421f-a1e5-d2d1b6e6cf55",
   "metadata": {},
   "source": [
    "Supervised learning:\n",
    "Supervised learning is the types of machine learning in which machines are trained using well \"labelled\" training data, and on basis of that data, machines predict the output. The labelled data means some input data is already tagged with the correct output. \n",
    "In supervised learning, the training data provided to the machines work as the supervisor that teaches the machines to predict the output correctly. It applies the same concept as a student learns in the supervision of the teacher.\n",
    "Supervised learning is a process of providing input data as well as correct output data to the machine learning model. The aim of a supervised learning algorithm is to find a mapping function to map the input variable(x) with the output variable(y).\n",
    "Examples:\n",
    "1. Text categorization.\n",
    "2. Face Detection.\n",
    "3. Signature recognition.\n",
    "4. Customer discovery.\n",
    "5. Spam detection.\n",
    "6. Weather forecasting."
   ]
  },
  {
   "cell_type": "markdown",
   "id": "e9a5a32f-bed0-4b1e-93de-c990be070c2c",
   "metadata": {},
   "source": [
    "#Q3:  What is unsupervised learning? List some examples of unsupervised learning."
   ]
  },
  {
   "cell_type": "markdown",
   "id": "024f71b7-654a-4fd3-a36d-5932a1062d25",
   "metadata": {},
   "source": [
    "Unsupervised learning is a type of machine learning in which models are trained using unlabeled dataset and are allowed to act on that data without any supervision.\n",
    "Example:\n",
    "1. Anomaly detection\n",
    "2. Audience segmentation\n",
    "3. Customer persona investigation\n",
    "4. Inventory management "
   ]
  },
  {
   "cell_type": "markdown",
   "id": "bc57847d-30c1-4031-9b74-88d87d53ec3a",
   "metadata": {},
   "source": [
    "#Q4: What is the difference bKtween AI, ML, DL, and DS?"
   ]
  },
  {
   "cell_type": "markdown",
   "id": "6acbdaf2-e111-48a6-87eb-29057a25e8a0",
   "metadata": {},
   "source": [
    "Artificial Intelligence:\n",
    "Artificial Intelligence is a branch of computer science. It involves building smart machines capable of performing tasks that need human intelligence.\n",
    "These systems mimic human cognitive functions, allowing decision making, and helping improve learning. AI-enabled systems also forecast financial and business outcomes and offer solutions for businesses. These machines interpret data to achieve business goals with greater precision and efficiency. \n",
    "\n",
    "Machine Learning:\n",
    "Machine Learning is the subsection of artificial intelligence and is based on the usage of algorithms and data. Machine learning requires complex math and a lot of coding to achieve the desired results.\n",
    "Machine learning algorithms use computational methods and learn from the data without depending on any predetermined equation. It is an application of AI that allows systems to learn and improve from experience. \n",
    "\n",
    "Deep Learning:\n",
    "Deep learning is a subfield of artificial intelligence. It uses a multi-layered structure of algorithms called a neural network. DL algorithms also need data to learn and solve problems. We can also call it a subfield of machine learning. \n",
    "The deep learning approach is suited to complex tasks where all aspects of the objects can’t be classified in advance. The DL system finds appropriate differentiators in the data without any external classification. Thus, there is no need for a developer to intervene.\n",
    "\n",
    "Data Science:\n",
    "Data science is a discipline that uses various technologies and methods to analyze data. It is the conjunction of computational science, statistics, mathematics, and knowledge of the company or business.\n",
    "The main goal of data science is to find patterns in data. It uses various statistical techniques to analyze and extract information from the data. Through these valuable insights, data scientists can help companies make smarter business decisions."
   ]
  },
  {
   "cell_type": "markdown",
   "id": "50515fe9-04eb-452a-a34e-32d8ca7a5be4",
   "metadata": {},
   "source": [
    "#Q5: What are the main differences between supervised, unsupervised, and semi-supervised learning?"
   ]
  },
  {
   "cell_type": "markdown",
   "id": "773d4831-8cf6-43de-b00b-e680fb4479bc",
   "metadata": {},
   "source": [
    "Supervised learning is a category in which we feed labeled data as input to the machine learning model.\n",
    "Unsupervised learning is a category of machine learning in which we only have the input data to feed to the model but no corresponding output data.\n",
    "Semi-supervised learning is a category of machine learning in which we have input data, and only some input data are labeled. we can say the data is partially annotated."
   ]
  },
  {
   "cell_type": "markdown",
   "id": "91d85cd0-cd59-42ae-9621-3f6bbbcfee58",
   "metadata": {},
   "source": [
    "#Q6: What is train, test and validation split? Explain the importance of each term."
   ]
  },
  {
   "cell_type": "markdown",
   "id": "21964bd8-1946-46e8-9864-7cd71fa91450",
   "metadata": {},
   "source": [
    "Training Set: The dataset that we feed our model to learn potential underlying patterns and relationships.\n",
    "Validation Set: The dataset that we use to understand our model's performance across different model types and hyperparameter choices.\n",
    "Test Set: The dataset that we use to approximate our model's unbiased accuracy in the wild.\n",
    "\n"
   ]
  },
  {
   "cell_type": "markdown",
   "id": "d0b640ce-bd59-4638-87d0-079f8285337b",
   "metadata": {},
   "source": [
    "#Q7: How can unsupervised learning be used in anomaly detection?"
   ]
  },
  {
   "cell_type": "markdown",
   "id": "d5502e65-2b34-4f0f-8ba1-f2ed69b62a93",
   "metadata": {},
   "source": [
    "Unsupervised Anomaly Detection: This method does require any training data and instead assumes two things about the data ie Only a small percentage of data is anomalous and Any anomaly is statistically different from the normal samples. Based on the above assumptions, the data is then clustered using a similarity measure and the data points which are far off from the cluster are considered to be anomalies."
   ]
  },
  {
   "cell_type": "markdown",
   "id": "577dcc52-0035-467d-a746-95e822bd2a65",
   "metadata": {},
   "source": [
    "#Q8: List down some commonly used supervised learning algorithms and unsupervised learning algorithms."
   ]
  },
  {
   "cell_type": "markdown",
   "id": "c8e82afd-dba2-4ddc-a69e-2a631af7a53f",
   "metadata": {},
   "source": [
    "The most commonly used Supervised Learning algorithms are: \n",
    "1. Decision tree\n",
    "2. Logistic regression\n",
    "3. Linear regression\n",
    "4. Support vector machine \n",
    "5. Random Forest\n",
    "\n",
    "The most commonly used Unsupervised Learning algorithms are: \n",
    "1. K-means clustering\n",
    "2. KNN (k-nearest neighbors)\n",
    "3. Hierarchal clustering\n",
    "4. Apriori algorithm\n"
   ]
  }
 ],
 "metadata": {
  "kernelspec": {
   "display_name": "Python 3 (ipykernel)",
   "language": "python",
   "name": "python3"
  },
  "language_info": {
   "codemirror_mode": {
    "name": "ipython",
    "version": 3
   },
   "file_extension": ".py",
   "mimetype": "text/x-python",
   "name": "python",
   "nbconvert_exporter": "python",
   "pygments_lexer": "ipython3",
   "version": "3.10.8"
  }
 },
 "nbformat": 4,
 "nbformat_minor": 5
}
